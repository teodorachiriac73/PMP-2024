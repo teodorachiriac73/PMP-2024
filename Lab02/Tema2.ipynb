{
 "cells": [
  {
   "cell_type": "markdown",
   "metadata": {},
   "source": [
    "# Tema 1- laborator 2 \n",
    "#### Exercițiul 1 - enunț\n",
    "Scrieţi un program în Python care să preia ca input un fişier .csv cu o listă oarecare şi să aibă ca output un număr\n",
    "predeterminat de elemente din acea listă, fără repetiţie. Aplicaţi pe lista studenţilor din grupa dumneavoastră care nu\n",
    "au prezentat încă o temă.\n",
    "\n",
    "Notă: Pentru generarea unui eşantion aleator se poate apela funcţia sample din modulul random sau funcţia random.choice cu argumentul replace=False din librăria Numpy.\n",
    "\n",
    "\n",
    "##### Rezolvare\n",
    "În rezolvarea acestei probleme, am considerat că fiecare nume se află pe o linie diferită în fișierul csv. Am ales să folosesc funcția random.choice. \n"
   ]
  },
  {
   "cell_type": "code",
   "execution_count": 97,
   "metadata": {},
   "outputs": [
    {
     "name": "stdout",
     "output_type": "stream",
     "text": [
      "studenti:  [['Ion Ionescu'], ['Maria Ionescu'], ['Ion Ionel'], ['Mario A'], ['Marian B'], ['Iulia C'], ['Iulia C']]\n",
      "studenti unici:  [('Mario A',), ('Ion Ionescu',), ('Iulia C',), ('Maria Ionescu',), ('Marian B',), ('Ion Ionel',)]\n",
      "studenti unici:  ['Mario A', 'Ion Ionescu', 'Iulia C', 'Maria Ionescu', 'Marian B', 'Ion Ionel']\n",
      "studentii alesi random:  ['Marian B' 'Iulia C' 'Ion Ionel' 'Mario A']\n"
     ]
    }
   ],
   "source": [
    "import csv\n",
    "import numpy as np\n",
    "\n",
    "def functieStudRandom(nrStudenti):\n",
    "    with open('studenti.csv',mode='r') as fisier:\n",
    "        listaStudenti = list(csv.reader(fisier))\n",
    "        print(\"studenti: \", listaStudenti)\n",
    "        # operatiile de set nu se aplica pe listaStudenti, asa ca transformam fiecare row in tuplu\n",
    "        studenti_tuplu = [tuple(row) for row in listaStudenti] \n",
    "        # apoi eliminam duplicatele si transformam in lista \n",
    "        studenti_unici = list(set(studenti_tuplu))\n",
    "        print(\"studenti unici: \", studenti_unici)\n",
    "        studenti=[''.join(row) for row in studenti_unici]\n",
    "        # studenti acum contine ca elemente doar stringuri \n",
    "        print(\"studenti unici: \", studenti)\n",
    "        if nrStudenti<len(studenti):\n",
    "            return np.random.choice(studenti,nrStudenti,replace=False)\n",
    "        else: return -1\n",
    "\n",
    "\n",
    "print('studentii alesi random: ',functieStudRandom(4))"
   ]
  },
  {
   "cell_type": "markdown",
   "metadata": {},
   "source": [
    "#### Exercițiul 2 - enunț\n",
    "Doi prieteni joacă următorul joc, după următoarele reguli:\n",
    "\n",
    "Pasul 1. Primul jucător aruncă cu o monedă.\n",
    "\n",
    "● Dacă pică stemă, cel de-al doilea trebuie să arunce cu zarul şi să-i dea primului o sumă egală z − 3, unde z\n",
    "este rezultatul aruncării cu zarul (a da o sumă negativă este echivalent cu a lua opusul acelei sume). Jocul\n",
    "se încheie aici.\n",
    "\n",
    "● Dacă pică ban, atunci primul jucător trebuie să-i dea celui de-al doilea 0.5 $.\n",
    "\n",
    "Pasul n. În caz că jocul nu s-a încheiat, se reia pasul 1.\n",
    "\n",
    "Astfel, jocul se opreşte la pasul corespunzător obţinerii stemei de către primul jucător.\n",
    "a) Ce fel de distribuţie urmează N, numărul de paşi ai jocului?\n",
    "b) Simulaţi în Python un astfel de joc. Variabilele care ne interesează sunt N şi suma totală S pe care cel de-al\n",
    "doilea jucător trebuie să i-o dea primului.\n",
    "c) Prin simularea unui număr mare de astfel de jocuri, determinaţi cu aproximaţie media lui S şi reprezentaţi grafic\n",
    "(printr-o histogramă) distribuţia acesteia.\n",
    "d) Ce se întâmplă dacă moneda este măsluită? Încercaţi să refaceţi pct. c) cu o probabilitate de apariţie a stemei\n",
    "p = 0.3, respectiv p = 0.7. "
   ]
  },
  {
   "cell_type": "markdown",
   "metadata": {},
   "source": [
    "#### Rezolvare\n",
    "\n",
    "a) Se urmează o distribuție geometrică. (se joacă până pică stema)\n",
    "\n",
    "b)"
   ]
  },
  {
   "cell_type": "markdown",
   "metadata": {},
   "source": [
    "#### Exercițiul 3 - enunț\n",
    "Într-o frizerie, trei frizeri îşi tund clienţii cu următoarele viteze medii: primul cu 3 clienţi pe oră, al doilea cu 6 pe oră iar al treilea cu 4 pe oră. Astfel, timpul de servire al unui client este modelat de distribuţii exponenţiale cu parametrii\n",
    "λ1 = 3 h−1\n",
    ", λ2 = 6 h−1\n",
    ", respectiv λ3 = 4 h−1\n",
    ", iar probabilităţile de preluare a unui client de către un anumit frizer sunt 3/13, 6/13, respectiv 4/13 (de ce?). Fie X timpul de servire pentru un client.\n",
    "Generaţi 10000 de valori pentru X, şi în felul acesta estimaţi media şi deviaţia standard a lui X. Realizaţi un grafic\n",
    "aproximativ al densităţii distribuţiei lui X.\n",
    "Notă: Distribuţia Exp(λ) se poate apela prin random.exponential(scale=1/λ) în Numpy, sau cu stats.expon(scale=1/λ)\n",
    "în Scipy. Având în vedere că X are o distribuţie continuă, densitatea aproximativă acesteia se poate vizualiza folosind\n",
    "funcţia plot_kde din librăria Arviz."
   ]
  },
  {
   "cell_type": "markdown",
   "metadata": {},
   "source": [
    "#### Rezolvare\n",
    "\n",
    "În primul rând, răspunsul la întrebarea din enunț constă în faptul că fiecare frizer are probabilitatea de a fi ales de un client egală cu numărul clienților pentru care poate oferi servicii (în funcție de viteza sa), împărțit la numărul de clienți totali într-o oră. "
   ]
  }
 ],
 "metadata": {
  "kernelspec": {
   "display_name": "Python 3",
   "language": "python",
   "name": "python3"
  },
  "language_info": {
   "codemirror_mode": {
    "name": "ipython",
    "version": 3
   },
   "file_extension": ".py",
   "mimetype": "text/x-python",
   "name": "python",
   "nbconvert_exporter": "python",
   "pygments_lexer": "ipython3",
   "version": "3.12.6"
  }
 },
 "nbformat": 4,
 "nbformat_minor": 2
}
